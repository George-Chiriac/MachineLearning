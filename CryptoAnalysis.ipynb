{
 "cells": [
  {
   "cell_type": "markdown",
   "metadata": {
    "colab_type": "text",
    "id": "xpAuMVCwfWs8"
   },
   "source": [
    "# Cryptocurrency Price Prediction - Quant Network"
   ]
  },
  {
   "cell_type": "markdown",
   "metadata": {
    "colab_type": "text",
    "id": "nxJfRe4bfYVA"
   },
   "source": [
    "## Part 1 - Data Preprocessing"
   ]
  },
  {
   "cell_type": "markdown",
   "metadata": {
    "colab_type": "text",
    "id": "ir9zwETrfbrp"
   },
   "source": [
    "### Importing the libraries"
   ]
  },
  {
   "cell_type": "code",
   "execution_count": 50,
   "metadata": {
    "colab": {},
    "colab_type": "code",
    "id": "ZT1f24vHffuf"
   },
   "outputs": [],
   "source": [
    "import numpy as np\n",
    "import matplotlib.pyplot as plt\n",
    "import pandas as pd\n",
    "\n",
    "from sklearn.impute import SimpleImputer\n",
    "from sklearn.impute import KNNImputer\n",
    "from keras.models import Sequential\n",
    "from keras.layers import Dense\n",
    "from keras.layers import LSTM\n",
    "from keras.layers import Dropout"
   ]
  },
  {
   "cell_type": "markdown",
   "metadata": {
    "colab_type": "text",
    "id": "nQ47JAxrgmaL"
   },
   "source": [
    "### Importing the training set"
   ]
  },
  {
   "cell_type": "code",
   "execution_count": 51,
   "metadata": {
    "colab": {},
    "colab_type": "code",
    "id": "1xiv3pJOgqY3"
   },
   "outputs": [],
   "source": [
    "dataset_train1 = pd.read_csv('QNTTrain1.csv')\n",
    "dataset_train2 = pd.read_csv('QNTTrain2.csv')\n",
    "training_set1 = dataset_train1.iloc[:153, 1:2]\n",
    "training_set2 = dataset_train2.iloc[:, 2:3]\n",
    "data = training_set1.append(training_set2)"
   ]
  },
  {
   "cell_type": "code",
   "execution_count": 52,
   "metadata": {},
   "outputs": [
    {
     "data": {
      "text/plain": [
       "(998, 1)"
      ]
     },
     "execution_count": 52,
     "metadata": {},
     "output_type": "execute_result"
    }
   ],
   "source": [
    "data.shape"
   ]
  },
  {
   "cell_type": "code",
   "execution_count": 53,
   "metadata": {},
   "outputs": [
    {
     "data": {
      "text/html": [
       "<div>\n",
       "<style scoped>\n",
       "    .dataframe tbody tr th:only-of-type {\n",
       "        vertical-align: middle;\n",
       "    }\n",
       "\n",
       "    .dataframe tbody tr th {\n",
       "        vertical-align: top;\n",
       "    }\n",
       "\n",
       "    .dataframe thead th {\n",
       "        text-align: right;\n",
       "    }\n",
       "</style>\n",
       "<table border=\"1\" class=\"dataframe\">\n",
       "  <thead>\n",
       "    <tr style=\"text-align: right;\">\n",
       "      <th></th>\n",
       "      <th>Open</th>\n",
       "    </tr>\n",
       "  </thead>\n",
       "  <tbody>\n",
       "    <tr>\n",
       "      <th>0</th>\n",
       "      <td>0.287844</td>\n",
       "    </tr>\n",
       "    <tr>\n",
       "      <th>1</th>\n",
       "      <td>0.252366</td>\n",
       "    </tr>\n",
       "    <tr>\n",
       "      <th>2</th>\n",
       "      <td>0.269138</td>\n",
       "    </tr>\n",
       "    <tr>\n",
       "      <th>3</th>\n",
       "      <td>0.248117</td>\n",
       "    </tr>\n",
       "    <tr>\n",
       "      <th>4</th>\n",
       "      <td>0.244754</td>\n",
       "    </tr>\n",
       "  </tbody>\n",
       "</table>\n",
       "</div>"
      ],
      "text/plain": [
       "       Open\n",
       "0  0.287844\n",
       "1  0.252366\n",
       "2  0.269138\n",
       "3  0.248117\n",
       "4  0.244754"
      ]
     },
     "execution_count": 53,
     "metadata": {},
     "output_type": "execute_result"
    }
   ],
   "source": [
    "data.head()"
   ]
  },
  {
   "cell_type": "code",
   "execution_count": 54,
   "metadata": {},
   "outputs": [
    {
     "data": {
      "text/html": [
       "<div>\n",
       "<style scoped>\n",
       "    .dataframe tbody tr th:only-of-type {\n",
       "        vertical-align: middle;\n",
       "    }\n",
       "\n",
       "    .dataframe tbody tr th {\n",
       "        vertical-align: top;\n",
       "    }\n",
       "\n",
       "    .dataframe thead th {\n",
       "        text-align: right;\n",
       "    }\n",
       "</style>\n",
       "<table border=\"1\" class=\"dataframe\">\n",
       "  <thead>\n",
       "    <tr style=\"text-align: right;\">\n",
       "      <th></th>\n",
       "      <th>Open</th>\n",
       "    </tr>\n",
       "  </thead>\n",
       "  <tbody>\n",
       "    <tr>\n",
       "      <th>840</th>\n",
       "      <td>41.07</td>\n",
       "    </tr>\n",
       "    <tr>\n",
       "      <th>841</th>\n",
       "      <td>40.46</td>\n",
       "    </tr>\n",
       "    <tr>\n",
       "      <th>842</th>\n",
       "      <td>40.37</td>\n",
       "    </tr>\n",
       "    <tr>\n",
       "      <th>843</th>\n",
       "      <td>41.30</td>\n",
       "    </tr>\n",
       "    <tr>\n",
       "      <th>844</th>\n",
       "      <td>44.44</td>\n",
       "    </tr>\n",
       "  </tbody>\n",
       "</table>\n",
       "</div>"
      ],
      "text/plain": [
       "      Open\n",
       "840  41.07\n",
       "841  40.46\n",
       "842  40.37\n",
       "843  41.30\n",
       "844  44.44"
      ]
     },
     "execution_count": 54,
     "metadata": {},
     "output_type": "execute_result"
    }
   ],
   "source": [
    "data.tail()"
   ]
  },
  {
   "cell_type": "code",
   "execution_count": 55,
   "metadata": {},
   "outputs": [
    {
     "data": {
      "text/plain": [
       "Open    False\n",
       "dtype: bool"
      ]
     },
     "execution_count": 55,
     "metadata": {},
     "output_type": "execute_result"
    }
   ],
   "source": [
    "data.isnull().any()"
   ]
  },
  {
   "cell_type": "code",
   "execution_count": 56,
   "metadata": {},
   "outputs": [],
   "source": [
    "training_set = data.iloc[:, :].values"
   ]
  },
  {
   "cell_type": "markdown",
   "metadata": {
    "colab_type": "text",
    "id": "HT8_2UJegtG5"
   },
   "source": [
    "### Feature Scaling"
   ]
  },
  {
   "cell_type": "code",
   "execution_count": 57,
   "metadata": {
    "colab": {},
    "colab_type": "code",
    "id": "OTrF2kR7gx9x"
   },
   "outputs": [],
   "source": [
    "from sklearn.preprocessing import MinMaxScaler\n",
    "sc = MinMaxScaler(feature_range = (0, 1))\n",
    "training_set_scaled = sc.fit_transform(training_set)"
   ]
  },
  {
   "cell_type": "markdown",
   "metadata": {
    "colab_type": "text",
    "id": "JyYgYocqhNUg"
   },
   "source": [
    "### Creating a data structure with 60 timesteps and 1 output"
   ]
  },
  {
   "cell_type": "code",
   "execution_count": 58,
   "metadata": {
    "colab": {},
    "colab_type": "code",
    "id": "iofU21B0i6ST"
   },
   "outputs": [],
   "source": [
    "X_train = []\n",
    "y_train = []\n",
    "for i in range(60, 998):\n",
    "    X_train.append(training_set_scaled[i-60:i, 0])\n",
    "    y_train.append(training_set_scaled[i, 0])\n",
    "X_train, y_train = np.array(X_train), np.array(y_train)"
   ]
  },
  {
   "cell_type": "markdown",
   "metadata": {
    "colab_type": "text",
    "id": "D8yaN7Zvi95l"
   },
   "source": [
    "### Reshaping"
   ]
  },
  {
   "cell_type": "code",
   "execution_count": 59,
   "metadata": {
    "colab": {},
    "colab_type": "code",
    "id": "FOXqJHmNjBkz"
   },
   "outputs": [],
   "source": [
    "X_train = np.reshape(X_train, (X_train.shape[0], X_train.shape[1], 1))"
   ]
  },
  {
   "cell_type": "markdown",
   "metadata": {
    "colab_type": "text",
    "id": "ZRRSOJeVjEWV"
   },
   "source": [
    "## Part 2 - Building and Training the RNN"
   ]
  },
  {
   "cell_type": "markdown",
   "metadata": {
    "colab_type": "text",
    "id": "FEIE-1s9jNzC"
   },
   "source": [
    "### Initialising the RNN"
   ]
  },
  {
   "cell_type": "code",
   "execution_count": 61,
   "metadata": {
    "colab": {},
    "colab_type": "code",
    "id": "1338dJ0UjRKH"
   },
   "outputs": [],
   "source": [
    "regressor = Sequential()"
   ]
  },
  {
   "cell_type": "markdown",
   "metadata": {
    "colab_type": "text",
    "id": "62eg1OPGjT8z"
   },
   "source": [
    "### Adding the first LSTM layer and some Dropout regularisation"
   ]
  },
  {
   "cell_type": "code",
   "execution_count": 62,
   "metadata": {
    "colab": {},
    "colab_type": "code",
    "id": "2hIinyXUjbVU"
   },
   "outputs": [],
   "source": [
    "regressor.add(LSTM(units = 50, return_sequences = True, input_shape = (X_train.shape[1], 1)))\n",
    "regressor.add(Dropout(0.2))"
   ]
  },
  {
   "cell_type": "markdown",
   "metadata": {
    "colab_type": "text",
    "id": "3XBIYLyOjlMx"
   },
   "source": [
    "### Adding a second LSTM layer and some Dropout regularisation"
   ]
  },
  {
   "cell_type": "code",
   "execution_count": 63,
   "metadata": {
    "colab": {},
    "colab_type": "code",
    "id": "UG7nrVaSjuZ2"
   },
   "outputs": [],
   "source": [
    "regressor.add(LSTM(units = 50, return_sequences = True))\n",
    "regressor.add(Dropout(0.2))"
   ]
  },
  {
   "cell_type": "markdown",
   "metadata": {
    "colab_type": "text",
    "id": "Ey3fHVnGj1cu"
   },
   "source": [
    "### Adding a third LSTM layer and some Dropout regularisation"
   ]
  },
  {
   "cell_type": "code",
   "execution_count": 64,
   "metadata": {
    "colab": {},
    "colab_type": "code",
    "id": "PuNi6PgFj7jO"
   },
   "outputs": [],
   "source": [
    "regressor.add(LSTM(units = 50, return_sequences = True))\n",
    "regressor.add(Dropout(0.2))"
   ]
  },
  {
   "cell_type": "markdown",
   "metadata": {
    "colab_type": "text",
    "id": "SYTrtfTmj933"
   },
   "source": [
    "### Adding a fourth LSTM layer and some Dropout regularisation"
   ]
  },
  {
   "cell_type": "code",
   "execution_count": 65,
   "metadata": {
    "colab": {},
    "colab_type": "code",
    "id": "Jp4Ty8fRkBYV"
   },
   "outputs": [],
   "source": [
    "regressor.add(LSTM(units = 50))\n",
    "regressor.add(Dropout(0.2))"
   ]
  },
  {
   "cell_type": "markdown",
   "metadata": {
    "colab_type": "text",
    "id": "9ABI6rOIkHhk"
   },
   "source": [
    "### Adding the output layer"
   ]
  },
  {
   "cell_type": "code",
   "execution_count": 66,
   "metadata": {
    "colab": {},
    "colab_type": "code",
    "id": "aM6R1z4WkME8"
   },
   "outputs": [],
   "source": [
    "regressor.add(Dense(units = 1))"
   ]
  },
  {
   "cell_type": "markdown",
   "metadata": {
    "colab_type": "text",
    "id": "zLx4K7uUkPSh"
   },
   "source": [
    "### Compiling the RNN"
   ]
  },
  {
   "cell_type": "code",
   "execution_count": 67,
   "metadata": {
    "colab": {},
    "colab_type": "code",
    "id": "XTrhVN-tkbko"
   },
   "outputs": [],
   "source": [
    "regressor.compile(optimizer = 'adam', loss = 'mean_squared_error')"
   ]
  },
  {
   "cell_type": "markdown",
   "metadata": {
    "colab_type": "text",
    "id": "-mPhwKGkkebi"
   },
   "source": [
    "### Fitting the RNN to the Training set"
   ]
  },
  {
   "cell_type": "code",
   "execution_count": 68,
   "metadata": {
    "colab": {
     "base_uri": "https://localhost:8080/",
     "height": 1000
    },
    "colab_type": "code",
    "id": "I06Nkrz5kkb-",
    "outputId": "dc9d947a-4d5c-4dbc-ed45-31bf44b98dfb"
   },
   "outputs": [
    {
     "name": "stdout",
     "output_type": "stream",
     "text": [
      "Epoch 1/100\n",
      "30/30 [==============================] - 53s 155ms/step - loss: 0.0406\n",
      "Epoch 2/100\n",
      "30/30 [==============================] - 5s 154ms/step - loss: 0.0052\n",
      "Epoch 3/100\n",
      "30/30 [==============================] - 4s 144ms/step - loss: 0.0043\n",
      "Epoch 4/100\n",
      "30/30 [==============================] - 4s 148ms/step - loss: 0.0054\n",
      "Epoch 5/100\n",
      "30/30 [==============================] - 5s 167ms/step - loss: 0.0044\n",
      "Epoch 6/100\n",
      "30/30 [==============================] - 4s 148ms/step - loss: 0.0035\n",
      "Epoch 7/100\n",
      "30/30 [==============================] - 4s 146ms/step - loss: 0.0029\n",
      "Epoch 8/100\n",
      "30/30 [==============================] - 5s 157ms/step - loss: 0.0038 1s - \n",
      "Epoch 9/100\n",
      "30/30 [==============================] - 5s 154ms/step - loss: 0.0027\n",
      "Epoch 10/100\n",
      "30/30 [==============================] - 4s 146ms/step - loss: 0.0025\n",
      "Epoch 11/100\n",
      "30/30 [==============================] - 4s 146ms/step - loss: 0.0021\n",
      "Epoch 12/100\n",
      "30/30 [==============================] - 5s 165ms/step - loss: 0.0031\n",
      "Epoch 13/100\n",
      "30/30 [==============================] - 5s 152ms/step - loss: 0.0026\n",
      "Epoch 14/100\n",
      "30/30 [==============================] - 5s 149ms/step - loss: 0.0024\n",
      "Epoch 15/100\n",
      "30/30 [==============================] - 5s 156ms/step - loss: 0.0024\n",
      "Epoch 16/100\n",
      "30/30 [==============================] - 5s 153ms/step - loss: 0.0020\n",
      "Epoch 17/100\n",
      "30/30 [==============================] - 4s 146ms/step - loss: 0.0025\n",
      "Epoch 18/100\n",
      "30/30 [==============================] - 4s 147ms/step - loss: 0.0023\n",
      "Epoch 19/100\n",
      "30/30 [==============================] - 5s 160ms/step - loss: 0.0017\n",
      "Epoch 20/100\n",
      "30/30 [==============================] - 5s 151ms/step - loss: 0.0025\n",
      "Epoch 21/100\n",
      "30/30 [==============================] - 4s 147ms/step - loss: 0.0017\n",
      "Epoch 22/100\n",
      "30/30 [==============================] - 5s 154ms/step - loss: 0.0018\n",
      "Epoch 23/100\n",
      "30/30 [==============================] - 5s 154ms/step - loss: 0.0018\n",
      "Epoch 24/100\n",
      "30/30 [==============================] - 4s 147ms/step - loss: 0.0021\n",
      "Epoch 25/100\n",
      "30/30 [==============================] - 4s 147ms/step - loss: 0.0021\n",
      "Epoch 26/100\n",
      "30/30 [==============================] - 5s 161ms/step - loss: 0.0017\n",
      "Epoch 27/100\n",
      "30/30 [==============================] - 4s 148ms/step - loss: 0.0019\n",
      "Epoch 28/100\n",
      "30/30 [==============================] - 4s 147ms/step - loss: 0.0017\n",
      "Epoch 29/100\n",
      "30/30 [==============================] - 5s 157ms/step - loss: 0.0020\n",
      "Epoch 30/100\n",
      "30/30 [==============================] - 5s 162ms/step - loss: 0.0016\n",
      "Epoch 31/100\n",
      "30/30 [==============================] - 4s 147ms/step - loss: 0.0015\n",
      "Epoch 32/100\n",
      "30/30 [==============================] - 4s 149ms/step - loss: 0.0015\n",
      "Epoch 33/100\n",
      "30/30 [==============================] - 5s 163ms/step - loss: 0.0016\n",
      "Epoch 34/100\n",
      "30/30 [==============================] - 5s 155ms/step - loss: 0.0013\n",
      "Epoch 35/100\n",
      "30/30 [==============================] - 5s 150ms/step - loss: 0.0016\n",
      "Epoch 36/100\n",
      "30/30 [==============================] - 5s 155ms/step - loss: 0.0018\n",
      "Epoch 37/100\n",
      "30/30 [==============================] - 5s 152ms/step - loss: 0.0021\n",
      "Epoch 38/100\n",
      "30/30 [==============================] - 4s 148ms/step - loss: 0.0018\n",
      "Epoch 39/100\n",
      "30/30 [==============================] - 4s 149ms/step - loss: 0.0021\n",
      "Epoch 40/100\n",
      "30/30 [==============================] - 5s 164ms/step - loss: 0.0016\n",
      "Epoch 41/100\n",
      "30/30 [==============================] - 4s 149ms/step - loss: 0.0014\n",
      "Epoch 42/100\n",
      "30/30 [==============================] - 5s 167ms/step - loss: 0.0012\n",
      "Epoch 43/100\n",
      "30/30 [==============================] - 6s 189ms/step - loss: 0.0014\n",
      "Epoch 44/100\n",
      "30/30 [==============================] - 5s 159ms/step - loss: 0.0016\n",
      "Epoch 45/100\n",
      "30/30 [==============================] - 5s 157ms/step - loss: 0.0013\n",
      "Epoch 46/100\n",
      "30/30 [==============================] - 6s 199ms/step - loss: 0.0016\n",
      "Epoch 47/100\n",
      "30/30 [==============================] - 6s 208ms/step - loss: 0.0013\n",
      "Epoch 48/100\n",
      "30/30 [==============================] - 6s 216ms/step - loss: 0.0015\n",
      "Epoch 49/100\n",
      "30/30 [==============================] - 5s 179ms/step - loss: 0.0016\n",
      "Epoch 50/100\n",
      "30/30 [==============================] - 5s 154ms/step - loss: 0.0016\n",
      "Epoch 51/100\n",
      "30/30 [==============================] - 4s 147ms/step - loss: 0.0013\n",
      "Epoch 52/100\n",
      "30/30 [==============================] - 5s 180ms/step - loss: 0.0015\n",
      "Epoch 53/100\n",
      "30/30 [==============================] - 5s 175ms/step - loss: 0.0012\n",
      "Epoch 54/100\n",
      "30/30 [==============================] - 4s 144ms/step - loss: 0.0013\n",
      "Epoch 55/100\n",
      "30/30 [==============================] - 5s 152ms/step - loss: 0.0016\n",
      "Epoch 56/100\n",
      "30/30 [==============================] - 5s 149ms/step - loss: 0.0011\n",
      "Epoch 57/100\n",
      "30/30 [==============================] - 4s 143ms/step - loss: 0.0014\n",
      "Epoch 58/100\n",
      "30/30 [==============================] - 4s 143ms/step - loss: 0.0013\n",
      "Epoch 59/100\n",
      "30/30 [==============================] - 5s 155ms/step - loss: 0.0012\n",
      "Epoch 60/100\n",
      "30/30 [==============================] - 4s 144ms/step - loss: 0.0014\n",
      "Epoch 61/100\n",
      "30/30 [==============================] - 4s 143ms/step - loss: 0.0011\n",
      "Epoch 62/100\n",
      "30/30 [==============================] - 5s 153ms/step - loss: 0.0012\n",
      "Epoch 63/100\n",
      "30/30 [==============================] - 5s 154ms/step - loss: 0.0012\n",
      "Epoch 64/100\n",
      "30/30 [==============================] - 4s 146ms/step - loss: 0.0016\n",
      "Epoch 65/100\n",
      "30/30 [==============================] - 4s 145ms/step - loss: 0.0014\n",
      "Epoch 66/100\n",
      "30/30 [==============================] - 5s 155ms/step - loss: 0.0012\n",
      "Epoch 67/100\n",
      "30/30 [==============================] - 4s 146ms/step - loss: 0.0014\n",
      "Epoch 68/100\n",
      "30/30 [==============================] - 4s 143ms/step - loss: 9.5758e-04\n",
      "Epoch 69/100\n",
      "30/30 [==============================] - 4s 149ms/step - loss: 0.0010\n",
      "Epoch 70/100\n",
      "30/30 [==============================] - 5s 155ms/step - loss: 0.0010\n",
      "Epoch 71/100\n",
      "30/30 [==============================] - 4s 144ms/step - loss: 9.9721e-04\n",
      "Epoch 72/100\n",
      "30/30 [==============================] - 4s 144ms/step - loss: 9.8398e-04\n",
      "Epoch 73/100\n",
      "30/30 [==============================] - 5s 154ms/step - loss: 9.6300e-04\n",
      "Epoch 74/100\n",
      "30/30 [==============================] - 5s 157ms/step - loss: 0.0010\n",
      "Epoch 75/100\n",
      "30/30 [==============================] - 4s 146ms/step - loss: 0.0010\n",
      "Epoch 76/100\n",
      "30/30 [==============================] - 5s 150ms/step - loss: 9.5461e-04\n",
      "Epoch 77/100\n",
      "30/30 [==============================] - 5s 159ms/step - loss: 0.0011\n",
      "Epoch 78/100\n",
      "30/30 [==============================] - 4s 148ms/step - loss: 0.0012\n",
      "Epoch 79/100\n",
      "30/30 [==============================] - 4s 147ms/step - loss: 9.4501e-04\n",
      "Epoch 80/100\n",
      "30/30 [==============================] - 5s 157ms/step - loss: 0.0010\n",
      "Epoch 81/100\n",
      "30/30 [==============================] - 5s 162ms/step - loss: 9.3189e-04\n",
      "Epoch 82/100\n",
      "30/30 [==============================] - 5s 167ms/step - loss: 9.0636e-04\n",
      "Epoch 83/100\n",
      "30/30 [==============================] - 5s 157ms/step - loss: 0.0010\n",
      "Epoch 84/100\n",
      "30/30 [==============================] - 5s 163ms/step - loss: 7.7165e-04\n",
      "Epoch 85/100\n",
      "30/30 [==============================] - 5s 174ms/step - loss: 0.0011\n",
      "Epoch 86/100\n",
      "30/30 [==============================] - 5s 162ms/step - loss: 0.0011\n",
      "Epoch 87/100\n",
      "30/30 [==============================] - 5s 165ms/step - loss: 9.2112e-04\n",
      "Epoch 88/100\n",
      "30/30 [==============================] - 5s 166ms/step - loss: 9.8202e-04\n",
      "Epoch 89/100\n",
      "30/30 [==============================] - 5s 157ms/step - loss: 7.7264e-04\n",
      "Epoch 90/100\n",
      "30/30 [==============================] - 6s 192ms/step - loss: 9.9560e-04\n",
      "Epoch 91/100\n",
      "30/30 [==============================] - 5s 173ms/step - loss: 0.0010 1s - loss:\n",
      "Epoch 92/100\n",
      "30/30 [==============================] - 5s 163ms/step - loss: 0.0010\n",
      "Epoch 93/100\n",
      "30/30 [==============================] - 5s 171ms/step - loss: 0.0011\n",
      "Epoch 94/100\n",
      "30/30 [==============================] - 5s 168ms/step - loss: 9.8819e-04\n",
      "Epoch 95/100\n",
      "30/30 [==============================] - 5s 160ms/step - loss: 8.2695e-04\n",
      "Epoch 96/100\n",
      "30/30 [==============================] - 5s 182ms/step - loss: 8.8999e-04\n",
      "Epoch 97/100\n",
      "30/30 [==============================] - 5s 160ms/step - loss: 8.4623e-04 \n",
      "Epoch 98/100\n",
      "30/30 [==============================] - 4s 144ms/step - loss: 0.0010\n",
      "Epoch 99/100\n",
      "30/30 [==============================] - 5s 150ms/step - loss: 0.0011\n",
      "Epoch 100/100\n",
      "30/30 [==============================] - 5s 156ms/step - loss: 9.9214e-04\n"
     ]
    },
    {
     "data": {
      "text/plain": [
       "<keras.callbacks.History at 0x263bb842ca0>"
      ]
     },
     "execution_count": 68,
     "metadata": {},
     "output_type": "execute_result"
    }
   ],
   "source": [
    "regressor.fit(X_train, y_train, epochs = 100, batch_size = 32)"
   ]
  },
  {
   "cell_type": "markdown",
   "metadata": {
    "colab_type": "text",
    "id": "4hRau_lIkrE8"
   },
   "source": [
    "## Part 3 - Making the predictions and visualising the results"
   ]
  },
  {
   "cell_type": "markdown",
   "metadata": {
    "colab_type": "text",
    "id": "SgJO6qEDksxD"
   },
   "source": [
    "### Getting the real QNT price of May-June 2021"
   ]
  },
  {
   "cell_type": "code",
   "execution_count": 145,
   "metadata": {
    "colab": {},
    "colab_type": "code",
    "id": "FmBT2zqukxTz"
   },
   "outputs": [],
   "source": [
    "dataset_test = pd.read_csv('QNTTest.csv')\n",
    "real_stock_price = dataset_test.iloc[:, 1:2].values"
   ]
  },
  {
   "cell_type": "markdown",
   "metadata": {
    "colab_type": "text",
    "id": "GrvrLblxkz42"
   },
   "source": [
    "### Getting the predicted QNT price of  May-June 2021"
   ]
  },
  {
   "cell_type": "code",
   "execution_count": 146,
   "metadata": {
    "colab": {},
    "colab_type": "code",
    "id": "emikTvUpk3Ck"
   },
   "outputs": [],
   "source": [
    "dataset_total = pd.concat((data['Open'], dataset_test['Open']), axis = 0)\n",
    "dataset_array = dataset_total.iloc[59:].values\n",
    "inputs = dataset_total[len(dataset_total) - len(dataset_test) - 60:].values\n",
    "inputs = inputs.reshape(-1,1)\n",
    "inputs = sc.transform(inputs)\n",
    "X_test = []\n",
    "for i in range(60, 101):\n",
    "    X_test.append(inputs[i-60:i, 0])\n",
    "X_test = np.array(X_test)\n",
    "X_test = np.reshape(X_test, (X_test.shape[0], X_test.shape[1], 1))\n",
    "predicted_stock_price = regressor.predict(X_test)\n",
    "predicted_stock_price = sc.inverse_transform(predicted_stock_price)"
   ]
  },
  {
   "cell_type": "markdown",
   "metadata": {
    "colab_type": "text",
    "id": "iFTNs3YHk6FQ"
   },
   "source": [
    "### Visualising the results"
   ]
  },
  {
   "cell_type": "code",
   "execution_count": 147,
   "metadata": {
    "colab": {
     "base_uri": "https://localhost:8080/",
     "height": 295
    },
    "colab_type": "code",
    "id": "8OUI8U49k9tH",
    "outputId": "db0ed15e-071b-4bae-955e-0eda3df95238",
    "scrolled": true
   },
   "outputs": [
    {
     "data": {
      "image/png": "[encoded data removed]",
      "text/plain": [
       "<Figure size 432x288 with 1 Axes>"
      ]
     },
     "metadata": {
      "needs_background": "light"
     },
     "output_type": "display_data"
    }
   ],
   "source": [
    "plt.plot(real_stock_price, color = 'red', label = 'Real QNT Price')\n",
    "plt.plot(predicted_stock_price, color = 'blue', label = 'Predicted QNT Price')\n",
    "plt.title('QNT Price Prediction')\n",
    "plt.xlabel('Time')\n",
    "plt.ylabel('QNT Price')\n",
    "plt.legend()\n",
    "plt.show()"
   ]
  },
  {
   "cell_type": "markdown",
   "metadata": {},
   "source": [
    "### Results over whole range"
   ]
  },
  {
   "cell_type": "code",
   "execution_count": 148,
   "metadata": {},
   "outputs": [],
   "source": [
    "inputs = dataset_total[:].values\n",
    "inputs = inputs.reshape(-1,1)\n",
    "inputs = sc.transform(inputs)\n",
    "X_test = []\n",
    "for i in range(60, 1040):\n",
    "    X_test.append(inputs[i-60:i, 0])\n",
    "X_test = np.array(X_test)\n",
    "X_test = np.reshape(X_test, (X_test.shape[0], X_test.shape[1], 1))\n",
    "predicted_stock_price = regressor.predict(X_test)\n",
    "predicted_stock_price = sc.inverse_transform(predicted_stock_price)"
   ]
  },
  {
   "cell_type": "code",
   "execution_count": 149,
   "metadata": {
    "scrolled": false
   },
   "outputs": [
    {
     "data": {
      "image/png": "[encoded data removed]",
      "text/plain": [
       "<Figure size 432x288 with 1 Axes>"
      ]
     },
     "metadata": {
      "needs_background": "light"
     },
     "output_type": "display_data"
    }
   ],
   "source": [
    "plt.plot(dataset_array, color = 'red', label = 'Real QNT Price')\n",
    "plt.plot(predicted_stock_price, color = 'blue', label = 'Predicted QNT Price')\n",
    "plt.title('QNT Price Prediction')\n",
    "plt.xlabel('Time')\n",
    "plt.ylabel('QNT Price')\n",
    "plt.legend()\n",
    "plt.show()"
   ]
  }
 ],
 "metadata": {
  "colab": {
   "collapsed_sections": [],
   "name": "recurrent_neural_network.ipynb",
   "provenance": []
  },
  "kernelspec": {
   "display_name": "Python 3",
   "language": "python",
   "name": "python3"
  },
  "language_info": {
   "codemirror_mode": {
    "name": "ipython",
    "version": 3
   },
   "file_extension": ".py",
   "mimetype": "text/x-python",
   "name": "python",
   "nbconvert_exporter": "python",
   "pygments_lexer": "ipython3",
   "version": "3.8.5"
  }
 },
 "nbformat": 4,
 "nbformat_minor": 1
}
