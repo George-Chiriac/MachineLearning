{
 "cells": [
  {
   "cell_type": "markdown",
   "metadata": {
    "colab_type": "text",
    "id": "3DR-eO17geWu"
   },
   "source": [
    "# Convolutional Neural Network"
   ]
  },
  {
   "cell_type": "markdown",
   "metadata": {
    "colab_type": "text",
    "id": "EMefrVPCg-60"
   },
   "source": [
    "### Importing the libraries"
   ]
  },
  {
   "cell_type": "code",
   "execution_count": 1,
   "metadata": {
    "colab": {},
    "colab_type": "code",
    "id": "sCV30xyVhFbE"
   },
   "outputs": [],
   "source": [
    "import tensorflow as tf\n",
    "from keras.preprocessing.image import ImageDataGenerator"
   ]
  },
  {
   "cell_type": "code",
   "execution_count": 2,
   "metadata": {
    "colab": {},
    "colab_type": "code",
    "id": "FIleuCAjoFD8"
   },
   "outputs": [
    {
     "data": {
      "text/plain": [
       "'2.5.0'"
      ]
     },
     "execution_count": 2,
     "metadata": {},
     "output_type": "execute_result"
    }
   ],
   "source": [
    "tf.__version__"
   ]
  },
  {
   "cell_type": "markdown",
   "metadata": {
    "colab_type": "text",
    "id": "oxQxCBWyoGPE"
   },
   "source": [
    "## Part 1 - Data Preprocessing"
   ]
  },
  {
   "cell_type": "markdown",
   "metadata": {
    "colab_type": "text",
    "id": "MvE-heJNo3GG"
   },
   "source": [
    "### Preprocessing the Training set"
   ]
  },
  {
   "cell_type": "code",
   "execution_count": 3,
   "metadata": {
    "colab": {},
    "colab_type": "code",
    "id": "0koUcJMJpEBD"
   },
   "outputs": [
    {
     "name": "stdout",
     "output_type": "stream",
     "text": [
      "Found 8000 images belonging to 2 classes.\n"
     ]
    }
   ],
   "source": [
    "train_datagen = ImageDataGenerator(rescale = 1./255,\n",
    "                                   shear_range = 0.2,\n",
    "                                   zoom_range = 0.2,\n",
    "                                   horizontal_flip = True)\n",
    "training_set = train_datagen.flow_from_directory('dataset/training_set',\n",
    "                                                 target_size = (64, 64),\n",
    "                                                 batch_size = 32,\n",
    "                                                 class_mode = 'binary')"
   ]
  },
  {
   "cell_type": "markdown",
   "metadata": {
    "colab_type": "text",
    "id": "mrCMmGw9pHys"
   },
   "source": [
    "### Preprocessing the Test set"
   ]
  },
  {
   "cell_type": "code",
   "execution_count": 4,
   "metadata": {
    "colab": {},
    "colab_type": "code",
    "id": "SH4WzfOhpKc3"
   },
   "outputs": [
    {
     "name": "stdout",
     "output_type": "stream",
     "text": [
      "Found 2000 images belonging to 2 classes.\n"
     ]
    }
   ],
   "source": [
    "test_datagen = ImageDataGenerator(rescale = 1./255)\n",
    "test_set = test_datagen.flow_from_directory('dataset/test_set',\n",
    "                                            target_size = (64, 64),\n",
    "                                            batch_size = 32,\n",
    "                                            class_mode = 'binary')"
   ]
  },
  {
   "cell_type": "markdown",
   "metadata": {
    "colab_type": "text",
    "id": "af8O4l90gk7B"
   },
   "source": [
    "## Part 2 - Building the CNN"
   ]
  },
  {
   "cell_type": "markdown",
   "metadata": {
    "colab_type": "text",
    "id": "ces1gXY2lmoX"
   },
   "source": [
    "### Initialising the CNN"
   ]
  },
  {
   "cell_type": "code",
   "execution_count": 5,
   "metadata": {
    "colab": {},
    "colab_type": "code",
    "id": "SAUt4UMPlhLS"
   },
   "outputs": [],
   "source": [
    "cnn = tf.keras.models.Sequential()"
   ]
  },
  {
   "cell_type": "markdown",
   "metadata": {
    "colab_type": "text",
    "id": "u5YJj_XMl5LF"
   },
   "source": [
    "### Step 1 - Convolution"
   ]
  },
  {
   "cell_type": "code",
   "execution_count": 6,
   "metadata": {
    "colab": {},
    "colab_type": "code",
    "id": "XPzPrMckl-hV"
   },
   "outputs": [],
   "source": [
    "cnn.add(tf.keras.layers.Conv2D(filters=32, kernel_size=3, activation='relu', input_shape=[64, 64, 3]))"
   ]
  },
  {
   "cell_type": "markdown",
   "metadata": {
    "colab_type": "text",
    "id": "tf87FpvxmNOJ"
   },
   "source": [
    "### Step 2 - Pooling"
   ]
  },
  {
   "cell_type": "code",
   "execution_count": 7,
   "metadata": {
    "colab": {},
    "colab_type": "code",
    "id": "ncpqPl69mOac"
   },
   "outputs": [],
   "source": [
    "cnn.add(tf.keras.layers.MaxPool2D(pool_size=2, strides=2))"
   ]
  },
  {
   "cell_type": "code",
   "execution_count": 8,
   "metadata": {},
   "outputs": [
    {
     "data": {
      "text/plain": [
       "<tensorflow.python.keras.layers.core.Dropout at 0x22ea1f9e640>"
      ]
     },
     "execution_count": 8,
     "metadata": {},
     "output_type": "execute_result"
    }
   ],
   "source": [
    "tf.keras.layers.Dropout(.2)"
   ]
  },
  {
   "cell_type": "markdown",
   "metadata": {
    "colab_type": "text",
    "id": "xaTOgD8rm4mU"
   },
   "source": [
    "### Adding a second convolutional layer"
   ]
  },
  {
   "cell_type": "code",
   "execution_count": 9,
   "metadata": {
    "colab": {},
    "colab_type": "code",
    "id": "i_-FZjn_m8gk"
   },
   "outputs": [
    {
     "data": {
      "text/plain": [
       "<tensorflow.python.keras.layers.core.Dropout at 0x22ea20861c0>"
      ]
     },
     "execution_count": 9,
     "metadata": {},
     "output_type": "execute_result"
    }
   ],
   "source": [
    "cnn.add(tf.keras.layers.Conv2D(filters=32, kernel_size=3, activation='relu'))\n",
    "cnn.add(tf.keras.layers.MaxPool2D(pool_size=2, strides=2))\n",
    "tf.keras.layers.Dropout(.2)"
   ]
  },
  {
   "cell_type": "markdown",
   "metadata": {
    "colab_type": "text",
    "id": "tmiEuvTunKfk"
   },
   "source": [
    "### Step 3 - Flattening"
   ]
  },
  {
   "cell_type": "code",
   "execution_count": 10,
   "metadata": {
    "colab": {},
    "colab_type": "code",
    "id": "6AZeOGCvnNZn"
   },
   "outputs": [],
   "source": [
    "cnn.add(tf.keras.layers.Flatten())"
   ]
  },
  {
   "cell_type": "markdown",
   "metadata": {
    "colab_type": "text",
    "id": "dAoSECOm203v"
   },
   "source": [
    "### Step 4 - Full Connection"
   ]
  },
  {
   "cell_type": "code",
   "execution_count": 11,
   "metadata": {
    "colab": {},
    "colab_type": "code",
    "id": "8GtmUlLd26Nq"
   },
   "outputs": [],
   "source": [
    "cnn.add(tf.keras.layers.Dense(units=128, activation='relu'))\n",
    "cnn.add(tf.keras.layers.Dense(units=64, activation='relu'))"
   ]
  },
  {
   "cell_type": "markdown",
   "metadata": {
    "colab_type": "text",
    "id": "yTldFvbX28Na"
   },
   "source": [
    "### Step 5 - Output Layer"
   ]
  },
  {
   "cell_type": "code",
   "execution_count": 12,
   "metadata": {
    "colab": {},
    "colab_type": "code",
    "id": "1p_Zj1Mc3Ko_"
   },
   "outputs": [],
   "source": [
    "cnn.add(tf.keras.layers.Dense(units=1, activation='sigmoid'))"
   ]
  },
  {
   "cell_type": "markdown",
   "metadata": {
    "colab_type": "text",
    "id": "D6XkI90snSDl"
   },
   "source": [
    "## Part 3 - Training the CNN"
   ]
  },
  {
   "cell_type": "markdown",
   "metadata": {
    "colab_type": "text",
    "id": "vfrFQACEnc6i"
   },
   "source": [
    "### Compiling the CNN"
   ]
  },
  {
   "cell_type": "code",
   "execution_count": 13,
   "metadata": {
    "colab": {},
    "colab_type": "code",
    "id": "NALksrNQpUlJ"
   },
   "outputs": [],
   "source": [
    "cnn.compile(optimizer = 'adam', loss = 'binary_crossentropy', metrics = ['accuracy'])"
   ]
  },
  {
   "cell_type": "markdown",
   "metadata": {
    "colab_type": "text",
    "id": "ehS-v3MIpX2h"
   },
   "source": [
    "### Training the CNN on the Training set and evaluating it on the Test set"
   ]
  },
  {
   "cell_type": "code",
   "execution_count": null,
   "metadata": {
    "colab": {},
    "colab_type": "code",
    "id": "XUj1W4PJptta",
    "scrolled": true
   },
   "outputs": [
    {
     "name": "stdout",
     "output_type": "stream",
     "text": [
      "Epoch 1/50\n",
      "250/250 [==============================] - 225s 881ms/step - loss: 0.6604 - accuracy: 0.5999 - val_loss: 0.6456 - val_accuracy: 0.6450\n",
      "Epoch 2/50\n",
      "250/250 [==============================] - 88s 352ms/step - loss: 0.5944 - accuracy: 0.6787 - val_loss: 0.5745 - val_accuracy: 0.7135\n",
      "Epoch 3/50\n",
      "250/250 [==============================] - 83s 333ms/step - loss: 0.5615 - accuracy: 0.7075 - val_loss: 0.5750 - val_accuracy: 0.6970\n",
      "Epoch 4/50\n",
      "250/250 [==============================] - 94s 377ms/step - loss: 0.5305 - accuracy: 0.7318 - val_loss: 0.5241 - val_accuracy: 0.7275\n",
      "Epoch 5/50\n",
      "250/250 [==============================] - 83s 333ms/step - loss: 0.5177 - accuracy: 0.7439 - val_loss: 0.4913 - val_accuracy: 0.7610\n",
      "Epoch 6/50\n",
      "250/250 [==============================] - 84s 334ms/step - loss: 0.4869 - accuracy: 0.7670 - val_loss: 0.4979 - val_accuracy: 0.7655\n",
      "Epoch 7/50\n",
      "250/250 [==============================] - 81s 324ms/step - loss: 0.4756 - accuracy: 0.7689 - val_loss: 0.4832 - val_accuracy: 0.7775\n",
      "Epoch 8/50\n",
      "250/250 [==============================] - 81s 326ms/step - loss: 0.4584 - accuracy: 0.7814 - val_loss: 0.4774 - val_accuracy: 0.7740\n",
      "Epoch 9/50\n",
      "250/250 [==============================] - 81s 323ms/step - loss: 0.4500 - accuracy: 0.7857 - val_loss: 0.5093 - val_accuracy: 0.7670\n",
      "Epoch 10/50\n",
      "250/250 [==============================] - 81s 325ms/step - loss: 0.4435 - accuracy: 0.7941 - val_loss: 0.5157 - val_accuracy: 0.7410\n",
      "Epoch 11/50\n",
      "250/250 [==============================] - 81s 324ms/step - loss: 0.4229 - accuracy: 0.7990 - val_loss: 0.4511 - val_accuracy: 0.7900\n",
      "Epoch 12/50\n",
      "250/250 [==============================] - 81s 322ms/step - loss: 0.4159 - accuracy: 0.8105 - val_loss: 0.4671 - val_accuracy: 0.7830\n",
      "Epoch 13/50\n",
      "250/250 [==============================] - 83s 333ms/step - loss: 0.3988 - accuracy: 0.8106 - val_loss: 0.5286 - val_accuracy: 0.7630\n",
      "Epoch 14/50\n",
      "250/250 [==============================] - 80s 319ms/step - loss: 0.3881 - accuracy: 0.8250 - val_loss: 0.4627 - val_accuracy: 0.7955\n",
      "Epoch 15/50\n",
      "250/250 [==============================] - 79s 316ms/step - loss: 0.3791 - accuracy: 0.8315 - val_loss: 0.4732 - val_accuracy: 0.7770\n",
      "Epoch 16/50\n",
      "250/250 [==============================] - 80s 318ms/step - loss: 0.3681 - accuracy: 0.8330 - val_loss: 0.4700 - val_accuracy: 0.7870\n",
      "Epoch 17/50\n",
      "250/250 [==============================] - 80s 319ms/step - loss: 0.3541 - accuracy: 0.8413 - val_loss: 0.4614 - val_accuracy: 0.7985\n",
      "Epoch 18/50\n",
      "250/250 [==============================] - 80s 318ms/step - loss: 0.3451 - accuracy: 0.8472 - val_loss: 0.4731 - val_accuracy: 0.8050\n",
      "Epoch 19/50\n",
      "250/250 [==============================] - 80s 319ms/step - loss: 0.3354 - accuracy: 0.8491 - val_loss: 0.4862 - val_accuracy: 0.7850\n",
      "Epoch 20/50\n",
      "250/250 [==============================] - 79s 316ms/step - loss: 0.3211 - accuracy: 0.8606 - val_loss: 0.5636 - val_accuracy: 0.7585\n",
      "Epoch 21/50\n",
      "250/250 [==============================] - 79s 317ms/step - loss: 0.3222 - accuracy: 0.8577 - val_loss: 0.4767 - val_accuracy: 0.8005\n",
      "Epoch 22/50\n",
      "250/250 [==============================] - 79s 317ms/step - loss: 0.3063 - accuracy: 0.8674 - val_loss: 0.5015 - val_accuracy: 0.7955\n",
      "Epoch 23/50\n",
      "250/250 [==============================] - 79s 316ms/step - loss: 0.2867 - accuracy: 0.8767 - val_loss: 0.4946 - val_accuracy: 0.7970\n",
      "Epoch 24/50\n",
      "250/250 [==============================] - 80s 319ms/step - loss: 0.2819 - accuracy: 0.8802 - val_loss: 0.4776 - val_accuracy: 0.7995\n",
      "Epoch 25/50\n",
      "250/250 [==============================] - 79s 316ms/step - loss: 0.2772 - accuracy: 0.8776 - val_loss: 0.4917 - val_accuracy: 0.8130\n",
      "Epoch 26/50\n",
      "250/250 [==============================] - 79s 317ms/step - loss: 0.2582 - accuracy: 0.8931 - val_loss: 0.5166 - val_accuracy: 0.8045\n",
      "Epoch 27/50\n",
      "250/250 [==============================] - 79s 315ms/step - loss: 0.2654 - accuracy: 0.8869 - val_loss: 0.5140 - val_accuracy: 0.7965\n",
      "Epoch 28/50\n",
      "250/250 [==============================] - 80s 319ms/step - loss: 0.2505 - accuracy: 0.8985 - val_loss: 0.5204 - val_accuracy: 0.8005\n",
      "Epoch 29/50\n",
      "250/250 [==============================] - 79s 317ms/step - loss: 0.2333 - accuracy: 0.9022 - val_loss: 0.5547 - val_accuracy: 0.7905\n",
      "Epoch 30/50\n",
      "250/250 [==============================] - 79s 314ms/step - loss: 0.2344 - accuracy: 0.9031 - val_loss: 0.5310 - val_accuracy: 0.7900\n",
      "Epoch 31/50\n",
      "250/250 [==============================] - 96s 383ms/step - loss: 0.2296 - accuracy: 0.9034 - val_loss: 0.5564 - val_accuracy: 0.7855\n",
      "Epoch 32/50\n",
      "250/250 [==============================] - 82s 328ms/step - loss: 0.2233 - accuracy: 0.9068 - val_loss: 0.5534 - val_accuracy: 0.8180\n",
      "Epoch 33/50\n",
      "250/250 [==============================] - 82s 328ms/step - loss: 0.2082 - accuracy: 0.9151 - val_loss: 0.5890 - val_accuracy: 0.8055\n",
      "Epoch 34/50\n",
      "250/250 [==============================] - 103s 412ms/step - loss: 0.2043 - accuracy: 0.9139 - val_loss: 0.5475 - val_accuracy: 0.8135\n",
      "Epoch 35/50\n",
      "250/250 [==============================] - 86s 343ms/step - loss: 0.1939 - accuracy: 0.9211 - val_loss: 0.5779 - val_accuracy: 0.7950\n",
      "Epoch 36/50\n",
      "250/250 [==============================] - 128s 512ms/step - loss: 0.1884 - accuracy: 0.9240 - val_loss: 0.5818 - val_accuracy: 0.8010\n",
      "Epoch 37/50\n",
      "250/250 [==============================] - 120s 480ms/step - loss: 0.1933 - accuracy: 0.9208 - val_loss: 0.5965 - val_accuracy: 0.8040\n",
      "Epoch 38/50\n",
      "250/250 [==============================] - 114s 455ms/step - loss: 0.1837 - accuracy: 0.9266 - val_loss: 0.6023 - val_accuracy: 0.8085\n",
      "Epoch 39/50\n",
      "250/250 [==============================] - 111s 442ms/step - loss: 0.1706 - accuracy: 0.9321 - val_loss: 0.6539 - val_accuracy: 0.8065\n",
      "Epoch 40/50\n",
      "250/250 [==============================] - 99s 394ms/step - loss: 0.1656 - accuracy: 0.9337 - val_loss: 0.6389 - val_accuracy: 0.7910\n",
      "Epoch 41/50\n",
      "250/250 [==============================] - 123s 493ms/step - loss: 0.1640 - accuracy: 0.9329 - val_loss: 0.6311 - val_accuracy: 0.8055\n",
      "Epoch 42/50\n",
      "250/250 [==============================] - 121s 483ms/step - loss: 0.1619 - accuracy: 0.9365 - val_loss: 0.6518 - val_accuracy: 0.7930\n",
      "Epoch 43/50\n",
      "250/250 [==============================] - 108s 432ms/step - loss: 0.1512 - accuracy: 0.9420 - val_loss: 0.6486 - val_accuracy: 0.8035\n",
      "Epoch 44/50\n",
      "240/250 [===========================>..] - ETA: 3s - loss: 0.1484 - accuracy: 0.9445"
     ]
    }
   ],
   "source": [
    "cnn.fit(x = training_set, validation_data = test_set, epochs = 50)"
   ]
  },
  {
   "cell_type": "markdown",
   "metadata": {
    "colab_type": "text",
    "id": "U3PZasO0006Z"
   },
   "source": [
    "## Part 4 - Making a single prediction"
   ]
  },
  {
   "cell_type": "code",
   "execution_count": null,
   "metadata": {
    "colab": {},
    "colab_type": "code",
    "id": "gsSiWEJY1BPB"
   },
   "outputs": [],
   "source": [
    "import numpy as np\n",
    "from keras.preprocessing import image\n",
    "test_image = image.load_img('dataset\\single_prediction\\cat_or_dog_8.jpg', target_size = (64, 64))\n",
    "test_image = image.img_to_array(test_image)\n",
    "test_image = np.expand_dims(test_image, axis = 0)\n",
    "result = cnn.predict(test_image)\n",
    "training_set.class_indices\n",
    "if result[0][0] == 1:\n",
    "  prediction = 'dog'\n",
    "else:\n",
    "  prediction = 'cat'"
   ]
  },
  {
   "cell_type": "code",
   "execution_count": null,
   "metadata": {
    "colab": {},
    "colab_type": "code",
    "id": "ED9KB3I54c1i"
   },
   "outputs": [],
   "source": [
    "print(prediction)"
   ]
  }
 ],
 "metadata": {
  "colab": {
   "collapsed_sections": [],
   "name": "convolutional_neural_network.ipynb",
   "provenance": [],
   "toc_visible": true
  },
  "kernelspec": {
   "display_name": "Python 3",
   "language": "python",
   "name": "python3"
  },
  "language_info": {
   "codemirror_mode": {
    "name": "ipython",
    "version": 3
   },
   "file_extension": ".py",
   "mimetype": "text/x-python",
   "name": "python",
   "nbconvert_exporter": "python",
   "pygments_lexer": "ipython3",
   "version": "3.8.5"
  }
 },
 "nbformat": 4,
 "nbformat_minor": 1
}
