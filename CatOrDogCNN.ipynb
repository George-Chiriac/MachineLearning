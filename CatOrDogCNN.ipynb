{
 "cells": [
  {
   "cell_type": "markdown",
   "metadata": {
    "colab_type": "text",
    "id": "3DR-eO17geWu"
   },
   "source": [
    "# Convolutional Neural Network"
   ]
  },
  {
   "cell_type": "markdown",
   "metadata": {
    "colab_type": "text",
    "id": "EMefrVPCg-60"
   },
   "source": [
    "### Importing the libraries"
   ]
  },
  {
   "cell_type": "code",
   "execution_count": 1,
   "metadata": {
    "colab": {},
    "colab_type": "code",
    "id": "sCV30xyVhFbE"
   },
   "outputs": [],
   "source": [
    "import numpy as np\n",
    "import tensorflow as tf\n",
    "from keras.preprocessing import image"
   ]
  },
  {
   "cell_type": "code",
   "execution_count": 2,
   "metadata": {
    "colab": {},
    "colab_type": "code",
    "id": "FIleuCAjoFD8"
   },
   "outputs": [
    {
     "data": {
      "text/plain": [
       "'2.5.0'"
      ]
     },
     "execution_count": 2,
     "metadata": {},
     "output_type": "execute_result"
    }
   ],
   "source": [
    "tf.__version__"
   ]
  },
  {
   "cell_type": "markdown",
   "metadata": {
    "colab_type": "text",
    "id": "oxQxCBWyoGPE"
   },
   "source": [
    "## Part 1 - Data Preprocessing"
   ]
  },
  {
   "cell_type": "markdown",
   "metadata": {
    "colab_type": "text",
    "id": "MvE-heJNo3GG"
   },
   "source": [
    "### Preprocessing the Training set"
   ]
  },
  {
   "cell_type": "code",
   "execution_count": 2,
   "metadata": {
    "colab": {},
    "colab_type": "code",
    "id": "0koUcJMJpEBD"
   },
   "outputs": [
    {
     "name": "stdout",
     "output_type": "stream",
     "text": [
      "Found 8000 images belonging to 2 classes.\n"
     ]
    }
   ],
   "source": [
    "train_datagen = image.ImageDataGenerator(rescale = 1./255,\n",
    "                                   shear_range = 0.2,\n",
    "                                   zoom_range = 0.2,\n",
    "                                   horizontal_flip = True)\n",
    "training_set = train_datagen.flow_from_directory('dataset/training_set',\n",
    "                                                 target_size = (64, 64),\n",
    "                                                 batch_size = 32,\n",
    "                                                 class_mode = 'binary')"
   ]
  },
  {
   "cell_type": "markdown",
   "metadata": {
    "colab_type": "text",
    "id": "mrCMmGw9pHys"
   },
   "source": [
    "### Preprocessing the Test set"
   ]
  },
  {
   "cell_type": "code",
   "execution_count": 3,
   "metadata": {
    "colab": {},
    "colab_type": "code",
    "id": "SH4WzfOhpKc3"
   },
   "outputs": [
    {
     "name": "stdout",
     "output_type": "stream",
     "text": [
      "Found 2000 images belonging to 2 classes.\n"
     ]
    }
   ],
   "source": [
    "test_datagen = image.ImageDataGenerator(rescale = 1./255)\n",
    "test_set = test_datagen.flow_from_directory('dataset/test_set',\n",
    "                                            target_size = (64, 64),\n",
    "                                            batch_size = 32,\n",
    "                                            class_mode = 'binary')"
   ]
  },
  {
   "cell_type": "markdown",
   "metadata": {
    "colab_type": "text",
    "id": "af8O4l90gk7B"
   },
   "source": [
    "## Part 2 - Building the CNN"
   ]
  },
  {
   "cell_type": "code",
   "execution_count": 5,
   "metadata": {
    "colab": {},
    "colab_type": "code",
    "id": "SAUt4UMPlhLS"
   },
   "outputs": [],
   "source": [
    "cnn = tf.keras.models.Sequential()\n",
    "cnn.add(tf.keras.layers.Conv2D(filters=32, kernel_size=3, activation='relu', input_shape=[64, 64, 3]))\n",
    "cnn.add(tf.keras.layers.MaxPool2D(pool_size=2, strides=2))\n",
    "tf.keras.layers.Dropout(.2)\n",
    "cnn.add(tf.keras.layers.Conv2D(filters=32, kernel_size=3, activation='relu'))\n",
    "cnn.add(tf.keras.layers.MaxPool2D(pool_size=2, strides=2))\n",
    "tf.keras.layers.Dropout(.2)\n",
    "cnn.add(tf.keras.layers.Conv2D(filters=32, kernel_size=3, activation='relu'))\n",
    "cnn.add(tf.keras.layers.MaxPool2D(pool_size=2, strides=2))\n",
    "tf.keras.layers.Dropout(.2)\n",
    "cnn.add(tf.keras.layers.Flatten())\n",
    "cnn.add(tf.keras.layers.Dense(units=128, activation='relu'))\n",
    "cnn.add(tf.keras.layers.Dense(units=64, activation='relu'))\n",
    "cnn.add(tf.keras.layers.Dense(units=32, activation='relu'))\n",
    "cnn.add(tf.keras.layers.Dense(units=1, activation='sigmoid'))"
   ]
  },
  {
   "cell_type": "markdown",
   "metadata": {
    "colab_type": "text",
    "id": "D6XkI90snSDl"
   },
   "source": [
    "## Part 3 - Training the CNN"
   ]
  },
  {
   "cell_type": "markdown",
   "metadata": {
    "colab_type": "text",
    "id": "vfrFQACEnc6i"
   },
   "source": [
    "### Compiling the CNN"
   ]
  },
  {
   "cell_type": "code",
   "execution_count": 14,
   "metadata": {
    "colab": {},
    "colab_type": "code",
    "id": "NALksrNQpUlJ"
   },
   "outputs": [],
   "source": [
    "cnn.compile(optimizer = 'adam', loss = 'binary_crossentropy', metrics = ['accuracy'])"
   ]
  },
  {
   "cell_type": "markdown",
   "metadata": {
    "colab_type": "text",
    "id": "ehS-v3MIpX2h"
   },
   "source": [
    "### Training the CNN on the Training set and evaluating it on the Test set"
   ]
  },
  {
   "cell_type": "code",
   "execution_count": 15,
   "metadata": {
    "colab": {},
    "colab_type": "code",
    "id": "XUj1W4PJptta",
    "scrolled": true
   },
   "outputs": [
    {
     "name": "stdout",
     "output_type": "stream",
     "text": [
      "Epoch 1/40\n",
      "250/250 [==============================] - 197s 780ms/step - loss: 0.6929 - accuracy: 0.5169 - val_loss: 0.6846 - val_accuracy: 0.5890\n",
      "Epoch 2/40\n",
      "250/250 [==============================] - 90s 360ms/step - loss: 0.6704 - accuracy: 0.5825 - val_loss: 0.6340 - val_accuracy: 0.6595\n",
      "Epoch 3/40\n",
      "250/250 [==============================] - 87s 347ms/step - loss: 0.6062 - accuracy: 0.6755 - val_loss: 0.6218 - val_accuracy: 0.6850\n",
      "Epoch 4/40\n",
      "250/250 [==============================] - 86s 344ms/step - loss: 0.5637 - accuracy: 0.7042 - val_loss: 0.5622 - val_accuracy: 0.7325\n",
      "Epoch 5/40\n",
      "250/250 [==============================] - 85s 341ms/step - loss: 0.5276 - accuracy: 0.7362 - val_loss: 0.5189 - val_accuracy: 0.7435\n",
      "Epoch 6/40\n",
      "250/250 [==============================] - 85s 338ms/step - loss: 0.5019 - accuracy: 0.7516 - val_loss: 0.4885 - val_accuracy: 0.7765\n",
      "Epoch 7/40\n",
      "250/250 [==============================] - 82s 329ms/step - loss: 0.4814 - accuracy: 0.7655 - val_loss: 0.4554 - val_accuracy: 0.7860\n",
      "Epoch 8/40\n",
      "250/250 [==============================] - 83s 331ms/step - loss: 0.4730 - accuracy: 0.7732 - val_loss: 0.4452 - val_accuracy: 0.7970\n",
      "Epoch 9/40\n",
      "250/250 [==============================] - 82s 327ms/step - loss: 0.4475 - accuracy: 0.7915 - val_loss: 0.5119 - val_accuracy: 0.7460\n",
      "Epoch 10/40\n",
      "250/250 [==============================] - 83s 332ms/step - loss: 0.4338 - accuracy: 0.7933 - val_loss: 0.4776 - val_accuracy: 0.7820\n",
      "Epoch 11/40\n",
      "250/250 [==============================] - 83s 330ms/step - loss: 0.4318 - accuracy: 0.7966 - val_loss: 0.4579 - val_accuracy: 0.7855\n",
      "Epoch 12/40\n",
      "250/250 [==============================] - 82s 328ms/step - loss: 0.4135 - accuracy: 0.8105 - val_loss: 0.4352 - val_accuracy: 0.8015\n",
      "Epoch 13/40\n",
      "250/250 [==============================] - 82s 328ms/step - loss: 0.4045 - accuracy: 0.8115 - val_loss: 0.4749 - val_accuracy: 0.7890\n",
      "Epoch 14/40\n",
      "250/250 [==============================] - 83s 331ms/step - loss: 0.3985 - accuracy: 0.8149 - val_loss: 0.4275 - val_accuracy: 0.8110\n",
      "Epoch 15/40\n",
      "250/250 [==============================] - 82s 329ms/step - loss: 0.3927 - accuracy: 0.8211 - val_loss: 0.4496 - val_accuracy: 0.8010\n",
      "Epoch 16/40\n",
      "250/250 [==============================] - 84s 334ms/step - loss: 0.3842 - accuracy: 0.8223 - val_loss: 0.4187 - val_accuracy: 0.8095\n",
      "Epoch 17/40\n",
      "250/250 [==============================] - 83s 333ms/step - loss: 0.3677 - accuracy: 0.8265 - val_loss: 0.4075 - val_accuracy: 0.8125\n",
      "Epoch 18/40\n",
      "250/250 [==============================] - 82s 329ms/step - loss: 0.3572 - accuracy: 0.8356 - val_loss: 0.4374 - val_accuracy: 0.8180\n",
      "Epoch 19/40\n",
      "250/250 [==============================] - 82s 330ms/step - loss: 0.3587 - accuracy: 0.8379 - val_loss: 0.4301 - val_accuracy: 0.8060\n",
      "Epoch 20/40\n",
      "250/250 [==============================] - 82s 328ms/step - loss: 0.3381 - accuracy: 0.8504 - val_loss: 0.4291 - val_accuracy: 0.8105\n",
      "Epoch 21/40\n",
      "250/250 [==============================] - 82s 329ms/step - loss: 0.3235 - accuracy: 0.8576 - val_loss: 0.4649 - val_accuracy: 0.8045\n",
      "Epoch 22/40\n",
      "250/250 [==============================] - 81s 323ms/step - loss: 0.3124 - accuracy: 0.8587 - val_loss: 0.4367 - val_accuracy: 0.8140\n",
      "Epoch 23/40\n",
      "250/250 [==============================] - 80s 319ms/step - loss: 0.3145 - accuracy: 0.8609 - val_loss: 0.4556 - val_accuracy: 0.8010\n",
      "Epoch 24/40\n",
      "250/250 [==============================] - 80s 319ms/step - loss: 0.2951 - accuracy: 0.8681 - val_loss: 0.4327 - val_accuracy: 0.8305\n",
      "Epoch 25/40\n",
      "250/250 [==============================] - 80s 322ms/step - loss: 0.2873 - accuracy: 0.8775 - val_loss: 0.4772 - val_accuracy: 0.8280\n",
      "Epoch 26/40\n",
      "250/250 [==============================] - 80s 320ms/step - loss: 0.2848 - accuracy: 0.8715 - val_loss: 0.4757 - val_accuracy: 0.8160\n",
      "Epoch 27/40\n",
      "250/250 [==============================] - 80s 320ms/step - loss: 0.2717 - accuracy: 0.8826 - val_loss: 0.4528 - val_accuracy: 0.8140\n",
      "Epoch 28/40\n",
      "250/250 [==============================] - 90s 359ms/step - loss: 0.2646 - accuracy: 0.8846 - val_loss: 0.4858 - val_accuracy: 0.8205\n",
      "Epoch 29/40\n",
      "250/250 [==============================] - 82s 329ms/step - loss: 0.2629 - accuracy: 0.8885 - val_loss: 0.4831 - val_accuracy: 0.8080\n",
      "Epoch 30/40\n",
      "250/250 [==============================] - 83s 333ms/step - loss: 0.2522 - accuracy: 0.8911 - val_loss: 0.4929 - val_accuracy: 0.8140\n",
      "Epoch 31/40\n",
      "250/250 [==============================] - 82s 329ms/step - loss: 0.2489 - accuracy: 0.8917 - val_loss: 0.4774 - val_accuracy: 0.8225\n",
      "Epoch 32/40\n",
      "250/250 [==============================] - 82s 329ms/step - loss: 0.2348 - accuracy: 0.8996 - val_loss: 0.5019 - val_accuracy: 0.8145\n",
      "Epoch 33/40\n",
      "250/250 [==============================] - 83s 331ms/step - loss: 0.2299 - accuracy: 0.9045 - val_loss: 0.4724 - val_accuracy: 0.8295\n",
      "Epoch 34/40\n",
      "250/250 [==============================] - 83s 331ms/step - loss: 0.2297 - accuracy: 0.9043 - val_loss: 0.4732 - val_accuracy: 0.8305\n",
      "Epoch 35/40\n",
      "250/250 [==============================] - 82s 329ms/step - loss: 0.2191 - accuracy: 0.9080 - val_loss: 0.4982 - val_accuracy: 0.8255\n",
      "Epoch 36/40\n",
      "250/250 [==============================] - 82s 329ms/step - loss: 0.2134 - accuracy: 0.9081 - val_loss: 0.5874 - val_accuracy: 0.8100\n",
      "Epoch 37/40\n",
      "250/250 [==============================] - 83s 331ms/step - loss: 0.1981 - accuracy: 0.9181 - val_loss: 0.5928 - val_accuracy: 0.8205\n",
      "Epoch 38/40\n",
      "250/250 [==============================] - 82s 328ms/step - loss: 0.2051 - accuracy: 0.9170 - val_loss: 0.4944 - val_accuracy: 0.8305\n",
      "Epoch 39/40\n",
      "250/250 [==============================] - 90s 360ms/step - loss: 0.1970 - accuracy: 0.9184 - val_loss: 0.5566 - val_accuracy: 0.8185\n",
      "Epoch 40/40\n",
      "250/250 [==============================] - 83s 333ms/step - loss: 0.1897 - accuracy: 0.9208 - val_loss: 0.5151 - val_accuracy: 0.8245\n"
     ]
    },
    {
     "data": {
      "text/plain": [
       "<tensorflow.python.keras.callbacks.History at 0x170cb02fd00>"
      ]
     },
     "execution_count": 15,
     "metadata": {},
     "output_type": "execute_result"
    }
   ],
   "source": [
    "cnn.fit(x = training_set, validation_data = test_set, epochs = 40)"
   ]
  },
  {
   "cell_type": "markdown",
   "metadata": {
    "colab_type": "text",
    "id": "U3PZasO0006Z"
   },
   "source": [
    "## Part 4 - Making a single prediction"
   ]
  },
  {
   "cell_type": "code",
   "execution_count": 48,
   "metadata": {
    "colab": {},
    "colab_type": "code",
    "id": "gsSiWEJY1BPB"
   },
   "outputs": [],
   "source": [
    "test_image = image.load_img('dataset\\single_prediction\\cat_or_dog_3.jpg', target_size = (64, 64))\n",
    "test_image = image.img_to_array(test_image)\n",
    "test_image = np.expand_dims(test_image, axis = 0)\n",
    "result = cnn.predict(test_image)\n",
    "training_set.class_indices\n",
    "if result[0][0] == 1:\n",
    "  prediction = 'dog'\n",
    "else:\n",
    "  prediction = 'cat'"
   ]
  },
  {
   "cell_type": "code",
   "execution_count": 49,
   "metadata": {
    "colab": {},
    "colab_type": "code",
    "id": "ED9KB3I54c1i"
   },
   "outputs": [
    {
     "name": "stdout",
     "output_type": "stream",
     "text": [
      "cat\n"
     ]
    }
   ],
   "source": [
    "print(prediction)"
   ]
  }
 ],
 "metadata": {
  "colab": {
   "collapsed_sections": [],
   "name": "convolutional_neural_network.ipynb",
   "provenance": [],
   "toc_visible": true
  },
  "kernelspec": {
   "display_name": "Python 3",
   "language": "python",
   "name": "python3"
  },
  "language_info": {
   "codemirror_mode": {
    "name": "ipython",
    "version": 3
   },
   "file_extension": ".py",
   "mimetype": "text/x-python",
   "name": "python",
   "nbconvert_exporter": "python",
   "pygments_lexer": "ipython3",
   "version": "3.8.5"
  }
 },
 "nbformat": 4,
 "nbformat_minor": 1
}
